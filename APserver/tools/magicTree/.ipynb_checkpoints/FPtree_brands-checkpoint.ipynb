{
 "cells": [
  {
   "cell_type": "code",
   "execution_count": 5,
   "metadata": {
    "collapsed": true
   },
   "outputs": [],
   "source": [
    "#coding=utf-8\n",
    "#### get function\n",
    "from tree_builder import Tree_builder\n",
    "import tree_building , time\n",
    "from tree_miner import Tree_miner\n",
    "from collections import Counter\n",
    "\n",
    "def fptree(routines, min_sup, headerTable, freq_items):\n",
    "\n",
    "    treeBuilder = Tree_builder(routines=routines, min_sup=min_sup, headerTable=headerTable) \n",
    "\n",
    "    treeMiner = Tree_miner(Tree=treeBuilder.tree, min_sup=min_sup, headerTable=headerTable, freq_items = freq_items)\n",
    "    freqitems_set = treeMiner.tree_mine\n",
    "    return freqitems_set\n",
    "\n",
    "## fp_association : 產出強階層關聯規則\n",
    "\n",
    "def fp_association(freqitems_set, keyword, rank, confcut) : \n",
    "\n",
    "    support_keyword = 0    \n",
    "    all_freq = 0   \n",
    "    items = []\n",
    "    for ele in freqitems_set :\n",
    "        all_freq += float(ele[-1])\n",
    "        if keyword in ele :\n",
    "            support_keyword += float(ele[-1])\n",
    "            items += [ word for word in ele[0:-1] if word != keyword ]\n",
    "            items = list(set(items))\n",
    "            \n",
    "    conf = {}\n",
    "\n",
    "    \n",
    "    for item in items :\n",
    "        support_union = 0    # 公同出現次數 p(A&B)\n",
    "        support_other = 0    # p(B)\n",
    "        confidence = 0   \n",
    "        lift = 0\n",
    "        for ele in freqitems_set :\n",
    "            if item in ele :\n",
    "                support_other += float(ele[-1])        \n",
    "                if keyword in ele :\n",
    "                    support_union += float(ele[-1])\n",
    "        confidence = support_union/support_keyword    # p(B|A)\n",
    "        lift = (support_union/support_keyword)/(support_other)*all_freq    # p(B|A)/p(B) > 1 表示正相關\n",
    "        if lift > 1 and confidence > confcut :\n",
    "                conf[item] = confidence\n",
    "                \n",
    "    top = dict(Counter(conf).most_common(rank))\n",
    "    return top"
   ]
  },
  {
   "cell_type": "code",
   "execution_count": 1,
   "metadata": {
    "collapsed": true
   },
   "outputs": [],
   "source": [
    "#### get corpus data\n",
    "with open(\"testQQQ.txt\",\"r\") as in_file:\n",
    "    testQQQ = [ele for ele in in_file.readlines()]\n",
    "corpus = map(lambda ele : ele.strip().split(\"|\") , testQQQ)"
   ]
  },
  {
   "cell_type": "code",
   "execution_count": null,
   "metadata": {
    "collapsed": false
   },
   "outputs": [],
   "source": [
    "#### Train data\n",
    "\n",
    "# 記錄開始時間 Record start time : 約 0.5分鐘\n",
    "tStart = time.time()\n",
    "\n",
    "min_sup = 2    #最小支持度计数\n",
    "headerTable = {}    #头结点表，用来存放各个项的索引\n",
    "freq_items = []\n",
    "qq = fptree(corpus, min_sup, headerTable, freq_items)\n",
    "\n",
    "# 記錄結束時間 Record stop time\n",
    "tStop = time.time()\n",
    "print(tStop - tStart)"
   ]
  },
  {
   "cell_type": "code",
   "execution_count": null,
   "metadata": {
    "collapsed": true
   },
   "outputs": [],
   "source": [
    "keyword = '台灣大'\n",
    "rank = 10\n",
    "confcut = 0.1 \n",
    "top = fp_association(qq, keyword, rank, confcut)\n",
    "for ele in top :\n",
    "    print ele , top[ele]\n",
    "print ('done')\n",
    "\n",
    "## Top 10 向下一階層的關聯字詞 --> 排除上一層已出現的關鍵詞\n",
    "for word in top.keys() :\n",
    "    second_dict = fp_association(qq, word ,10, 0)\n",
    "    third_dict = {k: v for k, v in second_dict.items() if k not in top.keys()}\n",
    "    for ele in third_dict :\n",
    "        print ele , third_dict[ele]\n",
    "        print '='*100"
   ]
  }
 ],
 "metadata": {
  "kernelspec": {
   "display_name": "Python 2",
   "language": "python",
   "name": "python2"
  },
  "language_info": {
   "codemirror_mode": {
    "name": "ipython",
    "version": 2
   },
   "file_extension": ".py",
   "mimetype": "text/x-python",
   "name": "python",
   "nbconvert_exporter": "python",
   "pygments_lexer": "ipython2",
   "version": "2.7.11"
  }
 },
 "nbformat": 4,
 "nbformat_minor": 0
}
