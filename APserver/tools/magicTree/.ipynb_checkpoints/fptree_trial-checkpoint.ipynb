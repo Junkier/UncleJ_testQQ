{
 "cells": [
  {
   "cell_type": "code",
   "execution_count": null,
   "metadata": {
    "collapsed": true
   },
   "outputs": [],
   "source": [
    "################################### FP Tree method ###################################\n",
    "## FP tree concept :\n",
    "http://www.cnblogs.com/ybjourney/p/4851540.html\n",
    "## scikit-learn :\n",
    "http://hhtucode.blogspot.tw/2013/07/ml-python-scikit-learn-revision-1.html\n",
    "## FP tree 原始碼來源 :\n",
    "http://blog.csdn.net/bone_ace/article/details/46747669"
   ]
  },
  {
   "cell_type": "code",
   "execution_count": 1,
   "metadata": {
    "collapsed": true
   },
   "outputs": [],
   "source": [
    "#### step-1: import FP Tree package py file\n",
    "#coding=utf-8\n",
    "\n",
    "from tree_builder import Tree_builder\n",
    "import tree_building\n",
    "from tree_miner import Tree_miner\n",
    "from collections import Counter\n"
   ]
  },
  {
   "cell_type": "code",
   "execution_count": 2,
   "metadata": {
    "collapsed": false
   },
   "outputs": [],
   "source": [
    "#### step-2: 自定函數\n",
    "\n",
    "## fptree : 頻繁項目集生成\n",
    "def fptree(routines, min_sup, headerTable, freq_items):\n",
    "    # 建造FP_Tree\n",
    "    treeBuilder = Tree_builder(routines=routines, min_sup=min_sup, headerTable=headerTable)\n",
    "    \n",
    "    # 生成頻繁項目集 \n",
    "    treeMiner = Tree_miner(Tree=treeBuilder.tree, min_sup=min_sup, headerTable=headerTable, freq_items = freq_items)\n",
    "    freqitems_set = treeMiner.tree_mine\n",
    "    return freqitems_set\n",
    "\n",
    "## fp_association : 產出強階層關聯規則\n",
    "# freqitems_set:頻繁項目集 / keyword:關鍵字 / rank:取得關聯排序順位 / confcut:信賴度門檻\n",
    "def fp_association(freqitems_set, keyword, rank, confcut) : \n",
    "\n",
    "    support_keyword = 0    # 查詢關鍵字的出現頻次 p(A)\n",
    "    all_freq = 0    # 所有頻繁項目集出現頻次\n",
    "    items = []\n",
    "    for ele in freqitems_set :\n",
    "        all_freq += float(ele[-1])\n",
    "        if keyword in ele :\n",
    "            support_keyword += float(ele[-1])\n",
    "            items += [ word for word in ele[0:-1] if word != keyword ]\n",
    "            items = list(set(items))\n",
    "            \n",
    "    conf = {}\n",
    "    \n",
    "    for item in items :\n",
    "        support_union = 0    # 公同出現次數 p(A&B)\n",
    "        support_other = 0    # p(B)\n",
    "        confidence = 0   \n",
    "        lift = 0\n",
    "        for ele in freqitems_set :\n",
    "            if item in ele :\n",
    "                support_other += float(ele[-1])        \n",
    "                if keyword in ele :\n",
    "                    support_union += float(ele[-1])\n",
    "        confidence = support_union/support_keyword    # p(B|A)\n",
    "        lift = (support_union/support_keyword)/(support_other)*all_freq    # p(B|A)/p(B) > 1 表示正相關\n",
    "        if lift > 1 and confidence > confcut :\n",
    "                conf[item] = confidence\n",
    "                \n",
    "    top = dict(Counter(conf).most_common(rank))\n",
    "    return top"
   ]
  },
  {
   "cell_type": "code",
   "execution_count": 3,
   "metadata": {
    "collapsed": false,
    "scrolled": true
   },
   "outputs": [
    {
     "name": "stdout",
     "output_type": "stream",
     "text": [
      "19946\n"
     ]
    }
   ],
   "source": [
    "#### step-3: 讀取所有文章內容 Tfidf 篩選後的關鍵字 --> 建議之後擴增為10個\n",
    "import time\n",
    "import pymongo\n",
    "from pymongo import MongoClient\n",
    "\n",
    "client = MongoClient('192.168.142.99', 27017)\n",
    "dbname = ['news','blog','forum','social_media']\n",
    "collectionname = ['Applenews_post','Ettoday_post','Setn_post','Pixnet_post','Ck101_post','Dcard_post','Eyny_post',\\\n",
    "                  'Mobile01_post','Ptt_post','FB_post']\n",
    "\n",
    "routines = []\n",
    "for dbn in dbname:\n",
    "    for coln in collectionname:\n",
    "    \n",
    "        db = client[dbn]\n",
    "        collection = db[coln]\n",
    "\n",
    "        cursor = collection.find()\n",
    "        cursor.count()\n",
    "        ## 進入每篇 post 進行分析\n",
    "        for document in cursor:\n",
    "            routines.append(document[\"content_keywords\"].split('|'))\n",
    "\n",
    "print (len(routines))"
   ]
  },
  {
   "cell_type": "code",
   "execution_count": 7,
   "metadata": {
    "collapsed": false
   },
   "outputs": [
    {
     "name": "stdout",
     "output_type": "stream",
     "text": [
      "77.7400000095\n"
     ]
    }
   ],
   "source": [
    "#### step-4: 生成頻繁項目集\n",
    "\n",
    "# 記錄開始時間 Record start time : 約 0.5分鐘\n",
    "tStart = time.time()\n",
    "\n",
    "min_sup = 2    #最小支持度计数\n",
    "headerTable = {}    #头结点表，用来存放各个项的索引\n",
    "freq_items = []\n",
    "qq = fptree(routines, min_sup, headerTable, freq_items)\n",
    "\n",
    "# 記錄結束時間 Record stop time\n",
    "tStop = time.time()\n",
    "print(tStop - tStart)"
   ]
  },
  {
   "cell_type": "code",
   "execution_count": 8,
   "metadata": {
    "collapsed": false
   },
   "outputs": [
    {
     "name": "stdout",
     "output_type": "stream",
     "text": [
      "9577\n"
     ]
    }
   ],
   "source": [
    "print (len(qq))"
   ]
  },
  {
   "cell_type": "code",
   "execution_count": 23,
   "metadata": {
    "collapsed": false
   },
   "outputs": [
    {
     "name": "stdout",
     "output_type": "stream",
     "text": [
      "李在鎔\n",
      "三星集團\n",
      "2\n",
      "----------------------------------------------------------------------------------------------------\n",
      "李在鎔\n",
      "lee\n",
      "三星集團\n",
      "2\n",
      "----------------------------------------------------------------------------------------------------\n",
      "保證金\n",
      "話機\n",
      "2\n",
      "----------------------------------------------------------------------------------------------------\n",
      "保證金\n",
      "自備\n",
      "話機\n",
      "2\n",
      "----------------------------------------------------------------------------------------------------\n",
      "保證金\n",
      "自備\n",
      "話機\n",
      "2\n",
      "----------------------------------------------------------------------------------------------------\n",
      "保證金\n",
      "自備\n",
      "租用\n",
      "話機\n",
      "2\n",
      "----------------------------------------------------------------------------------------------------\n",
      "自備\n",
      "話機\n",
      "2\n",
      "----------------------------------------------------------------------------------------------------\n",
      "自備\n",
      "租用\n",
      "話機\n",
      "2\n",
      "----------------------------------------------------------------------------------------------------\n",
      "保證金\n",
      "話機\n",
      "2\n",
      "----------------------------------------------------------------------------------------------------\n",
      "保證金\n",
      "租用\n",
      "話機\n",
      "2\n",
      "----------------------------------------------------------------------------------------------------\n"
     ]
    }
   ],
   "source": [
    "for ss in qq[0:10]:\n",
    "    for ele in ss:\n",
    "        print ele\n",
    "    print '-'*100"
   ]
  },
  {
   "cell_type": "code",
   "execution_count": 17,
   "metadata": {
    "collapsed": false
   },
   "outputs": [],
   "source": [
    "f = open(\"testQQ\" , 'w')\n",
    "for ele in qq:\n",
    "    f.write(\"{0}\\n\".format(ele))\n",
    "f.close()"
   ]
  },
  {
   "cell_type": "code",
   "execution_count": 13,
   "metadata": {
    "collapsed": false,
    "scrolled": true
   },
   "outputs": [
    {
     "name": "stdout",
     "output_type": "stream",
     "text": [
      "[u'\\u674e\\u5728\\u9394', u'\\u4e09\\u661f\\u96c6\\u5718', 2]\n",
      "[u'\\u674e\\u5728\\u9394', u'lee', u'\\u4e09\\u661f\\u96c6\\u5718', 2]\n",
      "[u'\\u4fdd\\u8b49\\u91d1', u'\\u8a71\\u6a5f', 2]\n",
      "[u'\\u4fdd\\u8b49\\u91d1', u'\\u81ea\\u5099', u'\\u8a71\\u6a5f', 2]\n",
      "[u'\\u4fdd\\u8b49\\u91d1', u'\\u81ea\\u5099', u'\\u8a71\\u6a5f', 2]\n",
      "[u'\\u4fdd\\u8b49\\u91d1', u'\\u81ea\\u5099', u'\\u79df\\u7528', u'\\u8a71\\u6a5f', 2]\n",
      "[u'\\u81ea\\u5099', u'\\u8a71\\u6a5f', 2]\n",
      "[u'\\u81ea\\u5099', u'\\u79df\\u7528', u'\\u8a71\\u6a5f', 2]\n",
      "[u'\\u4fdd\\u8b49\\u91d1', u'\\u8a71\\u6a5f', 2]\n",
      "[u'\\u4fdd\\u8b49\\u91d1', u'\\u79df\\u7528', u'\\u8a71\\u6a5f', 2]\n"
     ]
    }
   ],
   "source": [
    "for ele in qq[:10]:\n",
    "    print ele\n",
    "#     for ss in ele :\n",
    "#         print ss"
   ]
  },
  {
   "cell_type": "code",
   "execution_count": 11,
   "metadata": {
    "collapsed": false
   },
   "outputs": [
    {
     "name": "stdout",
     "output_type": "stream",
     "text": [
      "{'中華電': 0.18862275449101795, '國碁': 0.10778443113772455, '鴻海': 0.23353293413173654, '強強': 0.1437125748502994, '持股': 0.12574850299401197, '股權': 0.11676646706586827}\n",
      "done\n",
      "{'資本支出': 0.10344827586206896, '4g': 0.1336206896551724, '蔡力行': 0.06896551724137931, '台灣大': 0.13577586206896552, '吃到飽': 0.06896551724137931, '紅眼': 0.1206896551724138, '萬戶': 0.0625}\n",
      "{'計畫書': 0.27692307692307694, '合併': 0.2923076923076923, '亞太': 0.2230769230769231, '台灣大': 0.27692307692307694, '新新聞': 0.24615384615384617, 'mhz': 0.16923076923076924}\n",
      "{'吃到飽': 0.10126582278481013, '買家': 0.10443037974683544, '4g': 0.10126582278481013, '應戰': 0.12658227848101267, '台灣大': 0.2468354430379747}\n",
      "{'台灣大': 0.5333333333333333}\n",
      "{'增資': 0.040268456375838924, '買家': 0.14093959731543623, '頂新': 0.14093959731543623, '台灣大': 0.28187919463087246, '台灣之星': 0.2214765100671141, '認購': 0.040268456375838924}\n",
      "{'買家': 0.216, '頂新': 0.304, '台灣大': 0.312, '拋售': 0.264, 'mhz': 0.168, '台灣之星': 0.224}\n"
     ]
    }
   ],
   "source": [
    "#### step-5: 運算查詢與 \"關鍵字\" 相關信賴度最高的 top10 字詞 \n",
    "keyword = '台灣大'\n",
    "rank = 10\n",
    "confcut = 0.1 \n",
    "top = fp_association(qq, keyword, rank, confcut)\n",
    "print(top)\n",
    "print ('done')\n",
    "\n",
    "## Top 10 向下一階層的關聯字詞 --> 排除上一層已出現的關鍵詞\n",
    "for word in top.keys() :\n",
    "    second_dict = fp_association(qq, word ,10, 0)\n",
    "    third_dict = {k: v for k, v in second_dict.items() if k not in top.keys()}\n",
    "    print  (third_dict)\n",
    "\n",
    "#### --> 未來考量如何增加屬性詞的過濾網 "
   ]
  },
  {
   "cell_type": "code",
   "execution_count": 6,
   "metadata": {
    "collapsed": false
   },
   "outputs": [
    {
     "data": {
      "text/plain": [
       "[['買家', '拋售', 3], ['買家', '頂新', '拋售', 3], ['股權', '買家', '頂新', '拋售', 3]]"
      ]
     },
     "execution_count": 6,
     "metadata": {},
     "output_type": "execute_result"
    }
   ],
   "source": [
    "#### 驗證強關聯規則內容\n",
    "tt = [ freq for freq in qq if '拋售' in freq ]\n",
    "tt = sorted(tt, key = lambda x : x[-1] ,reverse=True)\n",
    "tt[:3]"
   ]
  },
  {
   "cell_type": "code",
   "execution_count": 9,
   "metadata": {
    "collapsed": false
   },
   "outputs": [
    {
     "name": "stdout",
     "output_type": "stream",
     "text": [
      "{'z3': 0.16666666666666666, '平井一夫': 0.06060606060606061, '強在': 0.18181818181818182, '糾正': 0.12121212121212122, 'ui': 0.2727272727272727, '三星': 0.09090909090909091, 'tablet': 0.06060606060606061, '有錯': 0.12121212121212122, 'z5': 0.09090909090909091, 'm4': 0.06060606060606061}\n"
     ]
    }
   ],
   "source": [
    "keyword = 'sony'\n",
    "rank = 10\n",
    "top = fp_association(qq, keyword, rank, 0)\n",
    "print (top)"
   ]
  },
  {
   "cell_type": "code",
   "execution_count": null,
   "metadata": {
    "collapsed": true
   },
   "outputs": [],
   "source": [
    "###################### 以下是開發測試過程 \n",
    "#coding=utf-8\n",
    "from tree_builder import Tree_builder\n",
    "# import tree_builder\n",
    "import tree_building\n",
    "from tree_miner import Tree_miner\n",
    "\n",
    "routines = [    \n",
    "           ['Cola','Egg','Ham'],\n",
    "           ['Cola','Diaper','Beer'],\n",
    "           ['Cola','Beer','Diaper','Ham'],\n",
    "           ['Diaper','Beer']\n",
    "        ]                                  #事务数据集\n",
    "min_sup = 2                             #最小支持度计数\n",
    "headerTable = {}        #头结点表，用来存放各个项的索引\n",
    "freq_items = []\n",
    "\n",
    "treeBuilder = Tree_builder(routines=routines, min_sup=min_sup, headerTable=headerTable)    #建造FP_Tree\n",
    "treeMiner = Tree_miner(Tree=treeBuilder.tree, min_sup=min_sup, headerTable=headerTable, freq_items = freq_items)\n",
    "\n",
    "a = treeBuilder.getItems(routines)\n",
    "b = treeBuilder.getSortedItems(a)\n",
    "c = treeBuilder.initItemsTable(headerTable)\n",
    "# print (a)\n",
    "# print (b)\n",
    "# print (c)\n",
    "# for ele in treeBuilder.tree :\n",
    "#     print (type(ele))\n",
    "\n",
    "tt = treeMiner.tree_mine\n",
    "print (tt)"
   ]
  },
  {
   "cell_type": "code",
   "execution_count": null,
   "metadata": {
    "collapsed": true
   },
   "outputs": [],
   "source": [
    "#### FP Tree support & confidence\n",
    "keyword = 'Cola'\n",
    "freqitems = tt\n",
    "# print (freqitems)\n",
    "\n",
    "support_keyword = 0\n",
    "all_freq = 0\n",
    "items = []\n",
    "for ele in freqitems :\n",
    "    all_freq += float(ele[-1])\n",
    "    if keyword in ele :\n",
    "        support_keyword += float(ele[-1])\n",
    "        items += [ word for word in ele[0:-1] if word != keyword ]\n",
    "        items = list(set(items))\n",
    "\n",
    "# print (support_keyword) \n",
    "# print (all_freq)\n",
    "# print (items)\n",
    "\n",
    "conf = {}\n",
    "for item in items :\n",
    "    support_union = 0\n",
    "    support_other = 0\n",
    "    confidence = 0\n",
    "    lift = 0\n",
    "    for ele in freqitems :\n",
    "        if item in ele :\n",
    "            support_other += float(ele[-1])        \n",
    "            if keyword in ele :\n",
    "                support_union += float(ele[-1])\n",
    "                confidence = support_union/support_keyword\n",
    "                lift = (support_union/support_keyword)/(support_other)*all_freq\n",
    "    if lift > 1 :\n",
    "            conf[item] = confidence \n",
    "#             print (conf)\n",
    "#     print ( item , support_union, support_other, confidence , lift)\n",
    "# print (conf)\n",
    "\n",
    "from collections import Counter\n",
    "dict(Counter(conf).most_common(1))  "
   ]
  }
 ],
 "metadata": {
  "kernelspec": {
   "display_name": "Python 2",
   "language": "python",
   "name": "python2"
  },
  "language_info": {
   "codemirror_mode": {
    "name": "ipython",
    "version": 2
   },
   "file_extension": ".py",
   "mimetype": "text/x-python",
   "name": "python",
   "nbconvert_exporter": "python",
   "pygments_lexer": "ipython2",
   "version": "2.7.11"
  }
 },
 "nbformat": 4,
 "nbformat_minor": 0
}
