{
 "cells": [
  {
   "cell_type": "code",
   "execution_count": null,
   "metadata": {
    "collapsed": true
   },
   "outputs": [],
   "source": [
    "################################### FP Tree method ###################################\n",
    "## FP tree concept :\n",
    "http://www.cnblogs.com/ybjourney/p/4851540.html\n",
    "## scikit-learn :\n",
    "http://hhtucode.blogspot.tw/2013/07/ml-python-scikit-learn-revision-1.html\n",
    "## FP tree 原始碼來源 :\n",
    "http://blog.csdn.net/bone_ace/article/details/46747669"
   ]
  },
  {
   "cell_type": "code",
   "execution_count": 1,
   "metadata": {
    "collapsed": true
   },
   "outputs": [],
   "source": [
    "#### step-1: import FP Tree package py file\n",
    "#coding=utf-8\n",
    "\n",
    "from tree_builder import Tree_builder\n",
    "import tree_building\n",
    "from tree_miner import Tree_miner\n",
    "from collections import Counter\n"
   ]
  },
  {
   "cell_type": "code",
   "execution_count": null,
   "metadata": {
    "collapsed": true
   },
   "outputs": [],
   "source": [
    "[u'\\u674e\\u5728\\u9394', u'\\u4e09\\u661f\\u96c6\\u5718', 2]"
   ]
  },
  {
   "cell_type": "code",
   "execution_count": 2,
   "metadata": {
    "collapsed": false
   },
   "outputs": [],
   "source": [
    "#### step-2: 自定函數\n",
    "\n",
    "## fptree : 頻繁項目集生成\n",
    "def fptree(routines, min_sup, headerTable, freq_items):\n",
    "    # 建造FP_Tree\n",
    "    treeBuilder = Tree_builder(routines=routines, min_sup=min_sup, headerTable=headerTable)\n",
    "    \n",
    "    # 生成頻繁項目集 \n",
    "    treeMiner = Tree_miner(Tree=treeBuilder.tree, min_sup=min_sup, headerTable=headerTable, freq_items = freq_items)\n",
    "    freqitems_set = treeMiner.tree_mine\n",
    "    return freqitems_set\n",
    "\n",
    "## fp_association : 產出強階層關聯規則\n",
    "# freqitems_set:頻繁項目集 / keyword:關鍵字 / rank:取得關聯排序順位 / confcut:信賴度門檻\n",
    "def fp_association(freqitems_set, keyword, rank, confcut) : \n",
    "\n",
    "    support_keyword = 0    # 查詢關鍵字的出現頻次 p(A)\n",
    "    all_freq = 0    # 所有頻繁項目集出現頻次\n",
    "    items = []\n",
    "    for ele in freqitems_set :\n",
    "        all_freq += float(ele[-1])\n",
    "        if keyword in ele :\n",
    "            support_keyword += float(ele[-1])\n",
    "            items += [ word for word in ele[0:-1] if word != keyword ]\n",
    "            items = list(set(items))\n",
    "            \n",
    "    conf = {}\n",
    "\n",
    "    \n",
    "    for item in items :\n",
    "        support_union = 0    # 公同出現次數 p(A&B)\n",
    "        support_other = 0    # p(B)\n",
    "        confidence = 0   \n",
    "        lift = 0\n",
    "        for ele in freqitems_set :\n",
    "            if item in ele :\n",
    "                support_other += float(ele[-1])        \n",
    "                if keyword in ele :\n",
    "                    support_union += float(ele[-1])\n",
    "        confidence = support_union/support_keyword    # p(B|A)\n",
    "        lift = (support_union/support_keyword)/(support_other)*all_freq    # p(B|A)/p(B) > 1 表示正相關\n",
    "        if lift > 1 and confidence > confcut :\n",
    "                conf[item] = confidence\n",
    "                \n",
    "    top = dict(Counter(conf).most_common(rank))\n",
    "    return top"
   ]
  },
  {
   "cell_type": "code",
   "execution_count": 1,
   "metadata": {
    "collapsed": false,
    "scrolled": true
   },
   "outputs": [
    {
     "name": "stdout",
     "output_type": "stream",
     "text": [
      "19946\n"
     ]
    }
   ],
   "source": [
    "#### step-3: 讀取所有文章內容 Tfidf 篩選後的關鍵字 --> 建議之後擴增為10個\n",
    "import time\n",
    "import pymongo\n",
    "from pymongo import MongoClient\n",
    "\n",
    "client = MongoClient('192.168.142.99', 27017)\n",
    "dbname = ['news','blog','forum','social_media']\n",
    "collectionname = ['Applenews_post','Ettoday_post','Setn_post','Pixnet_post','Ck101_post','Dcard_post','Eyny_post',\\\n",
    "                  'Mobile01_post','Ptt_post','FB_post']\n",
    "\n",
    "routines = []\n",
    "for dbn in dbname:\n",
    "    for coln in collectionname:\n",
    "    \n",
    "        db = client[dbn]\n",
    "        collection = db[coln]\n",
    "\n",
    "        cursor = collection.find()\n",
    "        cursor.count()\n",
    "        ## 進入每篇 post 進行分析\n",
    "        for document in cursor:\n",
    "            routines.append(map(lambda ele : ele.encode('utf-8') , document[\"content_keywords\"].split('|')))\n",
    "\n",
    "print (len(routines))"
   ]
  },
  {
   "cell_type": "code",
   "execution_count": 9,
   "metadata": {
    "collapsed": false
   },
   "outputs": [
    {
     "name": "stdout",
     "output_type": "stream",
     "text": [
      "拆屋\n",
      "反攻大陸\n",
      "跳票\n",
      "委員會\n",
      "要說\n"
     ]
    }
   ],
   "source": [
    "for ele in routines[4]:\n",
    "    print ele"
   ]
  },
  {
   "cell_type": "code",
   "execution_count": 64,
   "metadata": {
    "collapsed": false
   },
   "outputs": [
    {
     "name": "stdout",
     "output_type": "stream",
     "text": [
      "49.6500000954\n"
     ]
    }
   ],
   "source": [
    "#### step-4: 生成頻繁項目集\n",
    "\n",
    "# 記錄開始時間 Record start time : 約 0.5分鐘\n",
    "tStart = time.time()\n",
    "\n",
    "min_sup = 2    #最小支持度计数\n",
    "headerTable = {}    #头结点表，用来存放各个项的索引\n",
    "freq_items = []\n",
    "qq = fptree(routines, min_sup, headerTable, freq_items)\n",
    "\n",
    "# 記錄結束時間 Record stop time\n",
    "tStop = time.time()\n",
    "print(tStop - tStart)"
   ]
  },
  {
   "cell_type": "code",
   "execution_count": 70,
   "metadata": {
    "collapsed": false
   },
   "outputs": [],
   "source": [
    "f = open(\"FPtree_model\" , 'w')\n",
    "for ele in qq:\n",
    "    f.write(\"{0}\\n\".format(ele))\n",
    "f.close()"
   ]
  },
  {
   "cell_type": "code",
   "execution_count": 77,
   "metadata": {
    "collapsed": false
   },
   "outputs": [
    {
     "name": "stdout",
     "output_type": "stream",
     "text": [
      "中華電 0.21554770318\n",
      "鴻海 0.233215547703\n",
      "持股 0.148409893993\n",
      "強強 0.16961130742\n",
      "done\n",
      "蔡力行 0.0992907801418\n",
      "====================================================================================================\n",
      "軟體 0.0709219858156\n",
      "====================================================================================================\n",
      "方案 0.0756501182033\n",
      "====================================================================================================\n",
      "資本支出 0.108747044917\n",
      "====================================================================================================\n",
      "紅眼 0.10401891253\n",
      "====================================================================================================\n",
      "4g 0.12293144208\n",
      "====================================================================================================\n",
      "台灣大 0.144208037825\n",
      "====================================================================================================\n",
      "股權 0.113793103448\n",
      "====================================================================================================\n",
      "買家 0.113793103448\n",
      "====================================================================================================\n",
      "飛船 0.110344827586\n",
      "====================================================================================================\n",
      "國碁 0.110344827586\n",
      "====================================================================================================\n",
      "mhz 0.11724137931\n",
      "====================================================================================================\n",
      "台灣大 0.227586206897\n",
      "====================================================================================================\n",
      "應戰 0.110344827586\n",
      "====================================================================================================\n",
      "台灣之星 0.229007633588\n",
      "====================================================================================================\n",
      "買家 0.160305343511\n",
      "====================================================================================================\n",
      "增資 0.0458015267176\n",
      "====================================================================================================\n",
      "認購 0.0458015267176\n",
      "====================================================================================================\n",
      "頂新 0.160305343511\n",
      "====================================================================================================\n",
      "台灣大 0.320610687023\n",
      "====================================================================================================\n",
      "台灣大 0.533333333333\n",
      "====================================================================================================\n"
     ]
    }
   ],
   "source": [
    "#### step-5: 運算查詢與 \"關鍵字\" 相關信賴度最高的 top10 字詞 \n",
    "keyword = '台灣大'\n",
    "rank = 10\n",
    "confcut = 0.1 \n",
    "top = fp_association(qq, keyword, rank, confcut)\n",
    "for ele in top :\n",
    "    print ele , top[ele]\n",
    "print ('done')\n",
    "\n",
    "## Top 10 向下一階層的關聯字詞 --> 排除上一層已出現的關鍵詞\n",
    "for word in top.keys() :\n",
    "    second_dict = fp_association(qq, word ,10, 0)\n",
    "    third_dict = {k: v for k, v in second_dict.items() if k not in top.keys()}\n",
    "    for ele in third_dict :\n",
    "        print ele , third_dict[ele]\n",
    "        print '='*100\n",
    "    \n",
    "\n",
    "#### --> 未來考量如何增加屬性詞的過濾網 "
   ]
  },
  {
   "cell_type": "code",
   "execution_count": 85,
   "metadata": {
    "collapsed": false
   },
   "outputs": [
    {
     "data": {
      "text/plain": [
       "[('\\xe4\\xb8\\xad\\xe8\\x8f\\xaf\\xe9\\x9b\\xbb', 0.5333333333333333),\n",
       " ('\\xe9\\xb4\\xbb\\xe6\\xb5\\xb7', 0.5333333333333333),\n",
       " ('\\xe6\\x8c\\x81\\xe8\\x82\\xa1', 0.5333333333333333),\n",
       " ('\\xe5\\x8f\\xb0\\xe7\\x81\\xa3\\xe5\\xa4\\xa7', 0.5333333333333333)]"
      ]
     },
     "execution_count": 85,
     "metadata": {},
     "output_type": "execute_result"
    }
   ],
   "source": [
    "second_dict.items()"
   ]
  },
  {
   "cell_type": "code",
   "execution_count": 26,
   "metadata": {
    "collapsed": false
   },
   "outputs": [
    {
     "name": "stderr",
     "output_type": "stream",
     "text": [
      "C:\\Users\\QQ\\Anaconda2\\envs\\py27\\lib\\site-packages\\ipykernel\\__main__.py:2: UnicodeWarning: Unicode equal comparison failed to convert both arguments to Unicode - interpreting them as being unequal\n",
      "  from ipykernel import kernelapp as app\n"
     ]
    },
    {
     "data": {
      "text/plain": [
       "[]"
      ]
     },
     "execution_count": 26,
     "metadata": {},
     "output_type": "execute_result"
    }
   ],
   "source": [
    "#### 驗證強關聯規則內容\n",
    "tt = [ freq for freq in qq if '拋售' in freq ]\n",
    "tt = sorted(tt, key = lambda x : x[-1] ,reverse=True)\n",
    "tt[:3]"
   ]
  },
  {
   "cell_type": "code",
   "execution_count": 9,
   "metadata": {
    "collapsed": false
   },
   "outputs": [
    {
     "name": "stdout",
     "output_type": "stream",
     "text": [
      "{'z3': 0.16666666666666666, '平井一夫': 0.06060606060606061, '強在': 0.18181818181818182, '糾正': 0.12121212121212122, 'ui': 0.2727272727272727, '三星': 0.09090909090909091, 'tablet': 0.06060606060606061, '有錯': 0.12121212121212122, 'z5': 0.09090909090909091, 'm4': 0.06060606060606061}\n"
     ]
    }
   ],
   "source": [
    "keyword = 'sony'\n",
    "rank = 10\n",
    "top = fp_association(qq, keyword, rank, 0)\n",
    "print (top)"
   ]
  },
  {
   "cell_type": "code",
   "execution_count": null,
   "metadata": {
    "collapsed": true
   },
   "outputs": [],
   "source": [
    "###################### 以下是開發測試過程 \n",
    "#coding=utf-8\n",
    "from tree_builder import Tree_builder\n",
    "# import tree_builder\n",
    "import tree_building\n",
    "from tree_miner import Tree_miner\n",
    "\n",
    "routines = [    \n",
    "           ['Cola','Egg','Ham'],\n",
    "           ['Cola','Diaper','Beer'],\n",
    "           ['Cola','Beer','Diaper','Ham'],\n",
    "           ['Diaper','Beer']\n",
    "        ]                                  #事务数据集\n",
    "min_sup = 2                             #最小支持度计数\n",
    "headerTable = {}        #头结点表，用来存放各个项的索引\n",
    "freq_items = []\n",
    "\n",
    "treeBuilder = Tree_builder(routines=routines, min_sup=min_sup, headerTable=headerTable)    #建造FP_Tree\n",
    "treeMiner = Tree_miner(Tree=treeBuilder.tree, min_sup=min_sup, headerTable=headerTable, freq_items = freq_items)\n",
    "\n",
    "a = treeBuilder.getItems(routines)\n",
    "b = treeBuilder.getSortedItems(a)\n",
    "c = treeBuilder.initItemsTable(headerTable)\n",
    "# print (a)\n",
    "# print (b)\n",
    "# print (c)\n",
    "# for ele in treeBuilder.tree :\n",
    "#     print (type(ele))\n",
    "\n",
    "tt = treeMiner.tree_mine\n",
    "print (tt)"
   ]
  },
  {
   "cell_type": "code",
   "execution_count": null,
   "metadata": {
    "collapsed": true
   },
   "outputs": [],
   "source": [
    "#### FP Tree support & confidence\n",
    "keyword = 'Cola'\n",
    "freqitems = tt\n",
    "# print (freqitems)\n",
    "\n",
    "support_keyword = 0\n",
    "all_freq = 0\n",
    "items = []\n",
    "for ele in freqitems :\n",
    "    all_freq += float(ele[-1])\n",
    "    if keyword in ele :\n",
    "        support_keyword += float(ele[-1])\n",
    "        items += [ word for word in ele[0:-1] if word != keyword ]\n",
    "        items = list(set(items))\n",
    "\n",
    "# print (support_keyword) \n",
    "# print (all_freq)\n",
    "# print (items)\n",
    "\n",
    "conf = {}\n",
    "for item in items :\n",
    "    support_union = 0\n",
    "    support_other = 0\n",
    "    confidence = 0\n",
    "    lift = 0\n",
    "    for ele in freqitems :\n",
    "        if item in ele :\n",
    "            support_other += float(ele[-1])        \n",
    "            if keyword in ele :\n",
    "                support_union += float(ele[-1])\n",
    "                confidence = support_union/support_keyword\n",
    "                lift = (support_union/support_keyword)/(support_other)*all_freq\n",
    "    if lift > 1 :\n",
    "            conf[item] = confidence \n",
    "#             print (conf)\n",
    "#     print ( item , support_union, support_other, confidence , lift)\n",
    "# print (conf)\n",
    "\n",
    "from collections import Counter\n",
    "dict(Counter(conf).most_common(1))  "
   ]
  }
 ],
 "metadata": {
  "kernelspec": {
   "display_name": "Python 2",
   "language": "python",
   "name": "python2"
  },
  "language_info": {
   "codemirror_mode": {
    "name": "ipython",
    "version": 2
   },
   "file_extension": ".py",
   "mimetype": "text/x-python",
   "name": "python",
   "nbconvert_exporter": "python",
   "pygments_lexer": "ipython2",
   "version": "2.7.11"
  }
 },
 "nbformat": 4,
 "nbformat_minor": 0
}
