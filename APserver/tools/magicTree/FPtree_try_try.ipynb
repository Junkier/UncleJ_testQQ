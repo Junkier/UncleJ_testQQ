{
 "cells": [
  {
   "cell_type": "code",
   "execution_count": null,
   "metadata": {
    "collapsed": true
   },
   "outputs": [],
   "source": [
    "# -*- coding:utf-8 -*-\n",
    "\n",
    "# FPtree by utf-8\n",
    "# Define FPtree_Association Func.\n",
    "from collections import Counter\n",
    "def fp_association(freqitems_set, keyword, rank, confcut) : \n",
    "\n",
    "    support_keyword = 0    # 查詢關鍵字的出現頻次 p(A)\n",
    "    all_freq = 0    # 所有頻繁項目集出現頻次\n",
    "    items = []\n",
    "    for ele in freqitems_set :\n",
    "        all_freq += float(ele[-1])\n",
    "        if keyword in ele :\n",
    "            support_keyword += float(ele[-1])\n",
    "            items += [ word for word in ele[0:-1] if word != keyword ]\n",
    "            items = list(set(items))\n",
    "            \n",
    "    conf = {}\n",
    "    \n",
    "    for item in items :\n",
    "        support_union = 0    # 公同出現次數 p(A&B)\n",
    "        support_other = 0    # p(B)\n",
    "        confidence = 0   \n",
    "        lift = 0\n",
    "        for ele in freqitems_set :\n",
    "            if item in ele :\n",
    "                support_other += float(ele[-1])        \n",
    "                if keyword in ele :\n",
    "                    support_union += float(ele[-1])\n",
    "        confidence = support_union/support_keyword    # p(B|A)\n",
    "        lift = (support_union/support_keyword)/(support_other)*all_freq    # p(B|A)/p(B) > 1 表示正相關\n",
    "        if lift > 1 and confidence > confcut :\n",
    "                conf[item] = confidence\n",
    "                \n",
    "    top = dict(Counter(conf).most_common(rank))\n",
    "    return top\n",
    "\n",
    "# Get Model\n",
    "with open(\"FPtree_model\",\"r\") as in_file:\n",
    "    tree_back = [eval(ele.strip()) for ele in in_file.readlines()]\n",
    "    \n",
    "userword = '小米'\n",
    "rank = 10\n",
    "confcut = 0.1 \n",
    "result = []\n",
    "the_1st_ele = fp_association(tree_back, userword, rank, confcut)\n",
    "the_1st_words = map(lambda ele_tuple : ele_tuple[0], sorted(the_1st_ele.items() , key = lambda ele : ele[1] , reverse = True))\n",
    "\n",
    "for word in the_1st_words:\n",
    "    \n",
    "    sorted_2nd_result = sorted(fp_association(tree_back , word , 10 ,0 ).items() , key = lambda ele : ele[1] , reverse = True)\n",
    "    \n",
    "    for the_2nd_ele in sorted_2nd_result:\n",
    "        # the_2nd_ele is a tuple.\n",
    "        if the_2nd_ele[0] not in the_1st_words  and the_2nd_ele[0] not in userword:\n",
    "            result.append({\n",
    "                \"word\" : userword , \n",
    "                \"weight\" : the_2nd_ele[1] , \n",
    "                \"Level1\" : word , \n",
    "                \"Level2\" : the_2nd_ele[0]\n",
    "            })\n",
    "\n",
    "if len(result) > 0:            \n",
    "    for ele in result:\n",
    "        print ele[\"word\"] , ele[\"weight\"] , ele[\"Level1\"] , ele[\"Level2\"]\n",
    "else : \n",
    "    print \"None Association!!\""
   ]
  },
  {
   "cell_type": "code",
   "execution_count": 2,
   "metadata": {
    "collapsed": false
   },
   "outputs": [],
   "source": [
    "with open(\"testQQQ.txt\",\"r\") as in_file:\n",
    "    testQQQ = [ele for ele in in_file.readlines()]"
   ]
  }
 ],
 "metadata": {
  "kernelspec": {
   "display_name": "Python 2",
   "language": "python",
   "name": "python2"
  },
  "language_info": {
   "codemirror_mode": {
    "name": "ipython",
    "version": 2
   },
   "file_extension": ".py",
   "mimetype": "text/x-python",
   "name": "python",
   "nbconvert_exporter": "python",
   "pygments_lexer": "ipython2",
   "version": "2.7.11"
  }
 },
 "nbformat": 4,
 "nbformat_minor": 0
}
